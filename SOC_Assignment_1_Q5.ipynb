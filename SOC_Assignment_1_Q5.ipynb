{
 "cells": [
  {
   "cell_type": "code",
   "execution_count": 1,
   "metadata": {},
   "outputs": [],
   "source": [
    "from qiskit import QuantumCircuit,QuantumRegister\n",
    "from qiskit.quantum_info import Statevector\n",
    "from math import acos,sqrt\n"
   ]
  },
  {
   "cell_type": "code",
   "execution_count": 2,
   "metadata": {},
   "outputs": [
    {
     "data": {
      "text/html": [
       "<pre style=\"word-wrap: normal;white-space: pre;background: #fff0;line-height: 1.1;font-family: &quot;Courier New&quot;,Courier,monospace\">          ┌───┐     \n",
       "q_0: ──■──┤ X ├──■──\n",
       "     ┌─┴─┐└─┬─┘┌─┴─┐\n",
       "q_1: ┤ X ├──■──┤ X ├\n",
       "     └───┘     └───┘</pre>"
      ],
      "text/plain": [
       "          ┌───┐     \n",
       "q_0: ──■──┤ X ├──■──\n",
       "     ┌─┴─┐└─┬─┘┌─┴─┐\n",
       "q_1: ┤ X ├──■──┤ X ├\n",
       "     └───┘     └───┘"
      ]
     },
     "metadata": {},
     "output_type": "display_data"
    }
   ],
   "source": [
    "# Q5 a)\n",
    "# Swap gate for two qubits\n",
    "Q5_a = QuantumCircuit(2)\n",
    "\n",
    "Q5_a.cx(0,1)\n",
    "Q5_a.cx(1,0)\n",
    "Q5_a.cx(0,1)\n",
    "\n",
    "display(Q5_a.draw())"
   ]
  },
  {
   "cell_type": "code",
   "execution_count": 3,
   "metadata": {},
   "outputs": [
    {
     "data": {
      "text/html": [
       "<pre style=\"word-wrap: normal;white-space: pre;background: #fff0;line-height: 1.1;font-family: &quot;Courier New&quot;,Courier,monospace\">   ┌───┐\n",
       "q: ┤ H ├\n",
       "   └───┘</pre>"
      ],
      "text/plain": [
       "   ┌───┐\n",
       "q: ┤ H ├\n",
       "   └───┘"
      ]
     },
     "metadata": {},
     "output_type": "display_data"
    }
   ],
   "source": [
    "# Q5 b)\n",
    "# Ciruit taking the basis to Hadamard basis\n",
    "Q5_b = QuantumCircuit(1)\n",
    "\n",
    "Q5_b.h(0)\n",
    "\n",
    "display(Q5_b.draw())\n"
   ]
  },
  {
   "cell_type": "code",
   "execution_count": 4,
   "metadata": {},
   "outputs": [
    {
     "data": {
      "text/html": [
       "<pre style=\"word-wrap: normal;white-space: pre;background: #fff0;line-height: 1.1;font-family: &quot;Courier New&quot;,Courier,monospace\">     ┌───┐     ┌───┐\n",
       "q_0: ┤ X ├──■──┤ X ├\n",
       "     └─┬─┘┌─┴─┐└─┬─┘\n",
       "q_1: ──■──┤ X ├──■──\n",
       "       │  └─┬─┘  │  \n",
       "q_2: ──■────■────■──\n",
       "                    </pre>"
      ],
      "text/plain": [
       "     ┌───┐     ┌───┐\n",
       "q_0: ┤ X ├──■──┤ X ├\n",
       "     └─┬─┘┌─┴─┐└─┬─┘\n",
       "q_1: ──■──┤ X ├──■──\n",
       "       │  └─┬─┘  │  \n",
       "q_2: ──■────■────■──\n",
       "                    "
      ]
     },
     "metadata": {},
     "output_type": "display_data"
    }
   ],
   "source": [
    "# Q5 c)\n",
    "\n",
    "# Controlled swap gate circuit\n",
    "Q5_c_4 = QuantumCircuit(3)\n",
    "\n",
    "Q5_c_4.ccx(2,1,0)\n",
    "Q5_c_4.ccx(2,0,1)\n",
    "Q5_c_4.ccx(2,1,0)\n",
    "\n",
    "display(Q5_c_4.draw())\n"
   ]
  },
  {
   "cell_type": "code",
   "execution_count": 5,
   "metadata": {},
   "outputs": [
    {
     "data": {
      "text/html": [
       "<pre style=\"word-wrap: normal;white-space: pre;background: #fff0;line-height: 1.1;font-family: &quot;Courier New&quot;,Courier,monospace\">     ┌───┐          \n",
       "q_0: ┤ H ├──■───────\n",
       "     └───┘┌─┴─┐     \n",
       "q_1: ─────┤ X ├──■──\n",
       "          └───┘┌─┴─┐\n",
       "q_2: ──────────┤ X ├\n",
       "               └───┘</pre>"
      ],
      "text/plain": [
       "     ┌───┐          \n",
       "q_0: ┤ H ├──■───────\n",
       "     └───┘┌─┴─┐     \n",
       "q_1: ─────┤ X ├──■──\n",
       "          └───┘┌─┴─┐\n",
       "q_2: ──────────┤ X ├\n",
       "               └───┘"
      ]
     },
     "metadata": {},
     "output_type": "display_data"
    }
   ],
   "source": [
    "# Ciruit generating GHZ state\n",
    "GHZ_qc = QuantumCircuit(3)\n",
    "GHZ_qc.h(0)\n",
    "GHZ_qc.cx(0,1)\n",
    "GHZ_qc.cx(1,2)\n",
    "\n",
    "display(GHZ_qc.draw())"
   ]
  },
  {
   "cell_type": "code",
   "execution_count": 6,
   "metadata": {},
   "outputs": [
    {
     "data": {
      "text/html": [
       "<pre style=\"word-wrap: normal;white-space: pre;background: #fff0;line-height: 1.1;font-family: &quot;Courier New&quot;,Courier,monospace\">     ┌────────────┐               ┌───┐\n",
       "q_0: ┤ Ry(1.9106) ├──■─────────■──┤ X ├\n",
       "     └────────────┘┌─┴─┐     ┌─┴─┐└───┘\n",
       "q_1: ──────────────┤ H ├──■──┤ X ├─────\n",
       "                   └───┘┌─┴─┐└───┘     \n",
       "q_2: ───────────────────┤ X ├──────────\n",
       "                        └───┘          </pre>"
      ],
      "text/plain": [
       "     ┌────────────┐               ┌───┐\n",
       "q_0: ┤ Ry(1.9106) ├──■─────────■──┤ X ├\n",
       "     └────────────┘┌─┴─┐     ┌─┴─┐└───┘\n",
       "q_1: ──────────────┤ H ├──■──┤ X ├─────\n",
       "                   └───┘┌─┴─┐└───┘     \n",
       "q_2: ───────────────────┤ X ├──────────\n",
       "                        └───┘          "
      ]
     },
     "metadata": {},
     "output_type": "display_data"
    }
   ],
   "source": [
    "# Circuit generating W state\n",
    "W_qc = QuantumCircuit(3)\n",
    "W_qc.ry(2*acos(1/sqrt(3)),0)\n",
    "W_qc.ch(0,1)\n",
    "W_qc.cx(1,2)\n",
    "W_qc.cx(0,1)\n",
    "W_qc.x(0)\n",
    "\n",
    "display(W_qc.draw())"
   ]
  },
  {
   "cell_type": "code",
   "execution_count": 7,
   "metadata": {},
   "outputs": [
    {
     "data": {
      "text/html": [
       "<pre style=\"word-wrap: normal;white-space: pre;background: #fff0;line-height: 1.1;font-family: &quot;Courier New&quot;,Courier,monospace\">                         ┌───┐\n",
       "q_0: ──■────■─────────■──┤ X ├\n",
       "       │    │       ┌─┴─┐├───┤\n",
       "q_1: ──■────┼────■──┤ X ├┤ X ├\n",
       "     ┌─┴─┐┌─┴─┐┌─┴─┐├───┤└───┘\n",
       "q_2: ┤ X ├┤ X ├┤ X ├┤ X ├─────\n",
       "     └───┘└───┘└───┘└───┘     </pre>"
      ],
      "text/plain": [
       "                         ┌───┐\n",
       "q_0: ──■────■─────────■──┤ X ├\n",
       "       │    │       ┌─┴─┐├───┤\n",
       "q_1: ──■────┼────■──┤ X ├┤ X ├\n",
       "     ┌─┴─┐┌─┴─┐┌─┴─┐├───┤└───┘\n",
       "q_2: ┤ X ├┤ X ├┤ X ├┤ X ├─────\n",
       "     └───┘└───┘└───┘└───┘     "
      ]
     },
     "metadata": {},
     "output_type": "display_data"
    }
   ],
   "source": [
    "# Q5 d)\n",
    "# Circuit decrementing the value of a 3 qubit state by 1\n",
    "Q5_d = QuantumCircuit(3)\n",
    "\n",
    "Q5_d.ccx(0,1,2)\n",
    "Q5_d.cx(0,2)\n",
    "Q5_d.cx(1,2)\n",
    "Q5_d.x(2)\n",
    "Q5_d.cx(0,1)\n",
    "Q5_d.x(1)\n",
    "Q5_d.x(0)\n",
    "\n",
    "display(Q5_d.draw())\n"
   ]
  }
 ],
 "metadata": {
  "kernelspec": {
   "display_name": "Python 3",
   "language": "python",
   "name": "python3"
  },
  "language_info": {
   "codemirror_mode": {
    "name": "ipython",
    "version": 3
   },
   "file_extension": ".py",
   "mimetype": "text/x-python",
   "name": "python",
   "nbconvert_exporter": "python",
   "pygments_lexer": "ipython3",
   "version": "3.12.2"
  }
 },
 "nbformat": 4,
 "nbformat_minor": 2
}
