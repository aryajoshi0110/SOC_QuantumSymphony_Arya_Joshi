{
 "cells": [
  {
   "cell_type": "markdown",
   "metadata": {},
   "source": [
    "# ****Quantum Generative Adversarial Network****\n",
    "\n",
    "## **Generative Adversarial Networks (GANs)**\n",
    "- The main objective of GANs is to generate data that resembles the original data used in the training. To achieve this, two neural networks are trained simultaneously, a generator and a discriminator. \n",
    "- The generator has to create fake data similar to the original data used in the training, while the discriminator has to identify the fake data from the real one.\n",
    "- During training, both the networks iteratively improve off of each other's outputs. By the end of the training, the generator should be able to create data very similar to the original data.\n",
    "\n",
    "## **Advantages of using Quantum Circuits in GANs**\n",
    "- GANs are at the forefront of image generation and video processing. However, the enormous amount of computation make them approach the classical computational limit.\n",
    "- Theoretical works have shown that quantum generative models may possess an exponential advantage over classical GANs.\n",
    "\n",
    "## **How do QGANs work?**\n",
    "- In a Quantum GAN model, the generator has a number of sub-generators, which generate patches in parallel with each other. The patches are then concatenated together to produce a single image which is then fed to the discriminator.\n"
   ]
  },
  {
   "cell_type": "markdown",
   "metadata": {},
   "source": [
    "We will be using the pennylane library to generate qubits for image generation in parts simultaneously, and pytorch to load our hand-written images, create our machine learning model and train the model."
   ]
  },
  {
   "cell_type": "code",
   "execution_count": 25,
   "metadata": {},
   "outputs": [],
   "source": [
    "# Library imports\n",
    "import math\n",
    "import random\n",
    "import numpy as np\n",
    "import pandas as pd\n",
    "import matplotlib.pyplot as plt\n",
    "import matplotlib.gridspec as gridspec\n",
    "import pennylane as qml\n",
    "\n",
    "# Pytorch imports\n",
    "import torch\n",
    "import torch.nn as nn\n",
    "import torch.optim as optim\n",
    "import torchvision\n",
    "import torchvision.transforms as transforms\n",
    "from torch.utils.data import Dataset, DataLoader\n",
    "\n",
    "# Set the random seed for reproducibility\n",
    "seed = 42\n",
    "torch.manual_seed(seed)\n",
    "np.random.seed(seed)\n",
    "random.seed(seed)"
   ]
  },
  {
   "cell_type": "markdown",
   "metadata": {},
   "source": [
    "- We need a custom dataloader which loads the training dataset of handwritten images, which has been implemented in the following cell.\n",
    "- The function 'filter_by_label' is used to choose the digits we want to use for this implementation. We have chosen the label '0', which means that the dataloader will load the images of zeroes as the training data."
   ]
  },
  {
   "cell_type": "code",
   "execution_count": 26,
   "metadata": {},
   "outputs": [],
   "source": [
    "class DigitsDataset(Dataset):\n",
    "    \"\"\"Pytorch dataloader for the Optical Recognition of Handwritten Digits Data Set\"\"\"\n",
    "\n",
    "    def __init__(self, csv_file, label=0, transform=None):\n",
    "        \"\"\"\n",
    "        Args:\n",
    "            csv_file (string): Path to the csv file with annotations.\n",
    "            root_dir (string): Directory with all the images.\n",
    "            transform (callable, optional): Optional transform to be applied\n",
    "                on a sample.\n",
    "        \"\"\"\n",
    "        self.csv_file = csv_file\n",
    "        self.transform = transform\n",
    "        self.df = self.filter_by_label(label)\n",
    "\n",
    "    def filter_by_label(self, label):\n",
    "        # Use pandas to return a dataframe of only zeros\n",
    "        df = pd.read_csv(self.csv_file)\n",
    "        df = df.loc[df.iloc[:, -1] == label]\n",
    "        return df\n",
    "\n",
    "    def __len__(self):\n",
    "        return len(self.df)\n",
    "\n",
    "    def __getitem__(self, idx):\n",
    "        if torch.is_tensor(idx):\n",
    "            idx = idx.tolist()\n",
    "\n",
    "        image = self.df.iloc[idx, :-1] / 16\n",
    "        image = np.array(image)\n",
    "        image = image.astype(np.float32).reshape(8, 8)\n",
    "\n",
    "        if self.transform:\n",
    "            image = self.transform(image)\n",
    "\n",
    "        # Return image and label\n",
    "        return image, 0"
   ]
  },
  {
   "cell_type": "code",
   "execution_count": 27,
   "metadata": {},
   "outputs": [],
   "source": [
    "image_size = 8  # Height / width of the square images\n",
    "batch_size = 1\n",
    "\n",
    "transform = transforms.Compose([transforms.ToTensor()])\n",
    "dataset = DigitsDataset(csv_file=\"QGAN_data/optdigits.tra\", transform=transform)\n",
    "dataloader = torch.utils.data.DataLoader(\n",
    "    dataset, batch_size=batch_size, shuffle=True, drop_last=True\n",
    ")"
   ]
  },
  {
   "cell_type": "markdown",
   "metadata": {},
   "source": [
    "We plot the training dataset to get an idea of what the generator will try to replicate."
   ]
  },
  {
   "cell_type": "code",
   "execution_count": 28,
   "metadata": {},
   "outputs": [
    {
     "data": {
      "image/png": "[encoded data removed]",
      "text/plain": [
       "<Figure size 800x200 with 8 Axes>"
      ]
     },
     "metadata": {},
     "output_type": "display_data"
    }
   ],
   "source": [
    "plt.figure(figsize=(8,2))\n",
    "\n",
    "for i in range(8):\n",
    "    image = dataset[i][0].reshape(image_size,image_size)\n",
    "    plt.subplot(1,8,i+1)\n",
    "    plt.axis('off')\n",
    "    plt.imshow(image.numpy(), cmap='gray')\n",
    "\n",
    "plt.show()"
   ]
  },
  {
   "cell_type": "code",
   "execution_count": 29,
   "metadata": {},
   "outputs": [],
   "source": [
    "class Discriminator(nn.Module):\n",
    "    \"\"\"Fully connected classical discriminator\"\"\"\n",
    "\n",
    "    def __init__(self):\n",
    "        super().__init__()\n",
    "\n",
    "        self.model = nn.Sequential(\n",
    "            # Inputs to first hidden layer (num_input_features -> 64)\n",
    "            nn.Linear(image_size * image_size, 64),\n",
    "            nn.ReLU(),\n",
    "            # First hidden layer (64 -> 16)\n",
    "            nn.Linear(64, 16),\n",
    "            nn.ReLU(),\n",
    "            # Second hidden layer (16 -> output)\n",
    "            nn.Linear(16, 1),\n",
    "            nn.Sigmoid(),\n",
    "        )\n",
    "\n",
    "    def forward(self, x):\n",
    "        return self.model(x)"
   ]
  },
  {
   "cell_type": "markdown",
   "metadata": {},
   "source": [
    "The **Discriminator** is a classical implementation of the Discriminator which uses Linear() for the hidden layers and ReLU() as the activation function. At last, sigmoid function is used to differentiate between real and artificially generated images."
   ]
  },
  {
   "cell_type": "code",
   "execution_count": 30,
   "metadata": {},
   "outputs": [],
   "source": [
    "# Quantum variables\n",
    "n_qubits = 5  # Total number of qubits / N\n",
    "n_a_qubits = 1  # Number of ancillary qubits / N_A\n",
    "q_depth = 6  # Depth of the parameterised quantum circuit / D\n",
    "n_generators = 4  # Number of subgenerators for the patch method / N_G"
   ]
  },
  {
   "cell_type": "markdown",
   "metadata": {},
   "source": [
    "We define a total of 5 qubits, 4 for each subgenerator and 1 ancillary qubit to perform non-linear transforms on the other qubits."
   ]
  },
  {
   "cell_type": "code",
   "execution_count": 31,
   "metadata": {},
   "outputs": [],
   "source": [
    "# Quantum simulator\n",
    "dev = qml.device(\"lightning.qubit\", wires=n_qubits)\n",
    "# Enable CUDA device if available\n",
    "device = torch.device(\"cuda\" if torch.cuda.is_available() else \"cpu\")"
   ]
  },
  {
   "cell_type": "markdown",
   "metadata": {},
   "source": [
    "We define the quantum circuit as follows:\n",
    "- First every qubit is embedded into a state according to the noise.\n",
    "- This is then followed by a parameterised layer, where each qubit applied on by a RY gate according to the weights.\n",
    "- Finally, there is a layer of Controlled-Z gates, in which each qubit controls the next qubit."
   ]
  },
  {
   "cell_type": "code",
   "execution_count": 14,
   "metadata": {},
   "outputs": [
    {
     "data": {
      "text/html": [
       "<pre style=\"word-wrap: normal;white-space: pre;background: #fff0;line-height: 1.1;font-family: &quot;Courier New&quot;,Courier,monospace\">     ┌──────────┐┌────────────┐      ┌─┐      \n",
       "  A: ┤ Noise(0) ├┤ Weights(0) ├─■────┤M├──────\n",
       "     ├──────────┤├────────────┤ │    └╥┘      \n",
       " Q1: ┤ Noise(0) ├┤ Weights(0) ├─■──■──╫───────\n",
       "     ├──────────┤├────────────┤    │  ║       \n",
       " Q2: ┤ Noise(0) ├┤ Weights(0) ├────■──╫──■────\n",
       "     ├──────────┤├────────────┤       ║  │    \n",
       " Q3: ┤ Noise(0) ├┤ Weights(0) ├───────╫──■──■─\n",
       "     ├──────────┤├────────────┤       ║     │ \n",
       " Q4: ┤ Noise(0) ├┤ Weights(0) ├───────╫─────■─\n",
       "     └──────────┘└────────────┘       ║       \n",
       "M: 1/═════════════════════════════════╩═══════\n",
       "                                      0       </pre>"
      ],
      "text/plain": [
       "     ┌──────────┐┌────────────┐      ┌─┐      \n",
       "  A: ┤ Noise(0) ├┤ Weights(0) ├─■────┤M├──────\n",
       "     ├──────────┤├────────────┤ │    └╥┘      \n",
       " Q1: ┤ Noise(0) ├┤ Weights(0) ├─■──■──╫───────\n",
       "     ├──────────┤├────────────┤    │  ║       \n",
       " Q2: ┤ Noise(0) ├┤ Weights(0) ├────■──╫──■────\n",
       "     ├──────────┤├────────────┤       ║  │    \n",
       " Q3: ┤ Noise(0) ├┤ Weights(0) ├───────╫──■──■─\n",
       "     ├──────────┤├────────────┤       ║     │ \n",
       " Q4: ┤ Noise(0) ├┤ Weights(0) ├───────╫─────■─\n",
       "     └──────────┘└────────────┘       ║       \n",
       "M: 1/═════════════════════════════════╩═══════\n",
       "                                      0       "
      ]
     },
     "metadata": {},
     "output_type": "display_data"
    }
   ],
   "source": [
    "from qiskit import QuantumCircuit,QuantumRegister,ClassicalRegister\n",
    "Q1 = QuantumRegister(1,\"Q1\")\n",
    "Q2 = QuantumRegister(1,\"Q2\")\n",
    "Q3 = QuantumRegister(1,\"Q3\")\n",
    "Q4 = QuantumRegister(1,\"Q4\")\n",
    "A = QuantumRegister(1,\"A\")\n",
    "M = ClassicalRegister(1,\"M\")\n",
    "a = 0\n",
    "\n",
    "Circuit = QuantumCircuit(M,A,Q1,Q2,Q3,Q4)\n",
    "Circuit.ry(a,Q1,\"Noise\")\n",
    "Circuit.ry(a,Q2,\"Noise\")\n",
    "Circuit.ry(a,Q3,\"Noise\") # All these are rotated according to the noise parameters\n",
    "Circuit.ry(a,Q4,\"Noise\")\n",
    "Circuit.ry(a,A,\"Noise\")\n",
    "#Circuit.barrier\n",
    "Circuit.ry(a,Q1,\"Weights\")\n",
    "Circuit.ry(a,Q2,\"Weights\")\n",
    "Circuit.ry(a,Q3,\"Weights\") # Now these qubits are rotated according to the weighted parameters\n",
    "Circuit.ry(a,Q4,\"Weights\")\n",
    "Circuit.ry(a,A,\"Weights\")\n",
    "\n",
    "Circuit.cz(A,Q1)\n",
    "Circuit.cz(Q1,Q2)\n",
    "Circuit.cz(Q2,Q3)\n",
    "Circuit.cz(Q3,Q4)\n",
    "\n",
    "Circuit.measure(A,M) \n",
    "\n",
    "display(Circuit.draw())"
   ]
  },
  {
   "cell_type": "markdown",
   "metadata": {},
   "source": [
    "The non-linear transform is implemented using the partial_measure function. The ancillary qubit is measured and the probabilities of the other vectors are adjusted accordingly."
   ]
  },
  {
   "cell_type": "code",
   "execution_count": 32,
   "metadata": {},
   "outputs": [],
   "source": [
    "@qml.qnode(dev, diff_method=\"parameter-shift\")\n",
    "def quantum_circuit(noise, weights):\n",
    "\n",
    "    weights = weights.reshape(q_depth, n_qubits)\n",
    "\n",
    "    # Initialise latent vectors\n",
    "    for i in range(n_qubits):\n",
    "        qml.RY(noise[i], wires=i)\n",
    "\n",
    "    # Repeated layer\n",
    "    for i in range(q_depth):\n",
    "        # Parameterised layer\n",
    "        for y in range(n_qubits):\n",
    "            qml.RY(weights[i][y], wires=y)\n",
    "\n",
    "        # Control Z gates\n",
    "        for y in range(n_qubits - 1):\n",
    "            qml.CZ(wires=[y, y + 1])\n",
    "\n",
    "    return qml.probs(wires=list(range(n_qubits)))\n",
    "\n",
    "\n",
    "# For further info on how the non-linear transform is implemented in Pennylane\n",
    "# https://discuss.pennylane.ai/t/ancillary-subsystem-measurement-then-trace-out/1532\n",
    "def partial_measure(noise, weights):\n",
    "    # Non-linear Transform\n",
    "    probs = quantum_circuit(noise, weights)\n",
    "    probsgiven0 = probs[: (2 ** (n_qubits - n_a_qubits))]\n",
    "    probsgiven0 /= torch.sum(probs)\n",
    "\n",
    "    # Post-Processing\n",
    "    probsgiven = probsgiven0 / torch.max(probsgiven0)\n",
    "    return probsgiven"
   ]
  },
  {
   "cell_type": "markdown",
   "metadata": {},
   "source": [
    "We now define the **Quantum Generator**. The forward function implements the partial_measure according to elem and params from the discriminator's output. According to the output, a new set of 8 images is returned and fed to the discriminator, and the cycle continues until the specified number of iterations is reached."
   ]
  },
  {
   "cell_type": "code",
   "execution_count": 33,
   "metadata": {},
   "outputs": [],
   "source": [
    "class PatchQuantumGenerator(nn.Module):\n",
    "    \"\"\"Quantum generator class for the patch method\"\"\"\n",
    "\n",
    "    def __init__(self, n_generators, q_delta=1):\n",
    "        \"\"\"\n",
    "        Args:\n",
    "            n_generators (int): Number of sub-generators to be used in the patch method.\n",
    "            q_delta (float, optional): Spread of the random distribution for parameter initialisation.\n",
    "        \"\"\"\n",
    "\n",
    "        super().__init__()\n",
    "\n",
    "        self.q_params = nn.ParameterList(\n",
    "            [\n",
    "                nn.Parameter(q_delta * torch.rand(q_depth * n_qubits), requires_grad=True)\n",
    "                for _ in range(n_generators)\n",
    "            ]\n",
    "        )\n",
    "        self.n_generators = n_generators\n",
    "\n",
    "    def forward(self, x):\n",
    "        # Size of each sub-generator output\n",
    "        patch_size = 2 ** (n_qubits - n_a_qubits)\n",
    "\n",
    "        # Create a Tensor to 'catch' a batch of images from the for loop. x.size(0) is the batch size.\n",
    "        images = torch.Tensor(x.size(0), 0).to(device)\n",
    "\n",
    "        # Iterate over all sub-generators\n",
    "        for params in self.q_params:\n",
    "\n",
    "            # Create a Tensor to 'catch' a batch of the patches from a single sub-generator\n",
    "            patches = torch.Tensor(0, patch_size).to(device)\n",
    "            for elem in x:\n",
    "                q_out = partial_measure(elem, params).float().unsqueeze(0)\n",
    "                patches = torch.cat((patches, q_out))\n",
    "\n",
    "            # Each batch of patches is concatenated with each other to create a batch of images\n",
    "            images = torch.cat((images, patches), 1)\n",
    "\n",
    "        return images"
   ]
  },
  {
   "cell_type": "code",
   "execution_count": 34,
   "metadata": {},
   "outputs": [],
   "source": [
    "lrG = 0.3  # Learning rate for the generator\n",
    "lrD = 0.01  # Learning rate for the discriminator\n",
    "num_iter = 500  # Number of training iterations"
   ]
  },
  {
   "cell_type": "markdown",
   "metadata": {},
   "source": [
    "- The following cell contains the code for training the generator and the discriminator for 500 iterations.\n",
    "- The loss function (criterion) used is Binary Cross Entropy function offered by nn module in Pytorch. \n",
    "- The optimizer class, Stochastic Gradient Descent, is used in the learning of both the discriminator and the generator."
   ]
  },
  {
   "cell_type": "code",
   "execution_count": 35,
   "metadata": {},
   "outputs": [
    {
     "name": "stdout",
     "output_type": "stream",
     "text": [
      "Iteration: 10, Discriminator Loss: 1.361, Generator Loss: 0.596\n",
      "Iteration: 20, Discriminator Loss: 1.351, Generator Loss: 0.604\n",
      "Iteration: 30, Discriminator Loss: 1.308, Generator Loss: 0.624\n",
      "Iteration: 40, Discriminator Loss: 1.302, Generator Loss: 0.628\n",
      "Iteration: 50, Discriminator Loss: 1.270, Generator Loss: 0.655\n",
      "Iteration: 60, Discriminator Loss: 1.309, Generator Loss: 0.607\n",
      "Iteration: 70, Discriminator Loss: 1.252, Generator Loss: 0.652\n",
      "Iteration: 80, Discriminator Loss: 1.302, Generator Loss: 0.594\n",
      "Iteration: 90, Discriminator Loss: 1.254, Generator Loss: 0.615\n",
      "Iteration: 100, Discriminator Loss: 1.290, Generator Loss: 0.593\n",
      "Iteration: 110, Discriminator Loss: 1.198, Generator Loss: 0.659\n",
      "Iteration: 120, Discriminator Loss: 1.294, Generator Loss: 0.594\n",
      "Iteration: 130, Discriminator Loss: 1.262, Generator Loss: 0.624\n",
      "Iteration: 140, Discriminator Loss: 1.260, Generator Loss: 0.600\n",
      "Iteration: 150, Discriminator Loss: 1.259, Generator Loss: 0.615\n",
      "Iteration: 160, Discriminator Loss: 1.312, Generator Loss: 0.570\n",
      "Iteration: 170, Discriminator Loss: 1.352, Generator Loss: 0.598\n",
      "Iteration: 180, Discriminator Loss: 1.267, Generator Loss: 0.630\n",
      "Iteration: 190, Discriminator Loss: 1.299, Generator Loss: 0.640\n",
      "Iteration: 200, Discriminator Loss: 1.237, Generator Loss: 0.630\n",
      "Iteration: 210, Discriminator Loss: 1.167, Generator Loss: 0.710\n",
      "Iteration: 220, Discriminator Loss: 1.272, Generator Loss: 0.669\n",
      "Iteration: 230, Discriminator Loss: 1.166, Generator Loss: 0.663\n",
      "Iteration: 240, Discriminator Loss: 1.239, Generator Loss: 0.670\n",
      "Iteration: 250, Discriminator Loss: 1.245, Generator Loss: 0.659\n",
      "Iteration: 260, Discriminator Loss: 1.204, Generator Loss: 0.643\n",
      "Iteration: 270, Discriminator Loss: 1.264, Generator Loss: 0.677\n",
      "Iteration: 280, Discriminator Loss: 1.108, Generator Loss: 0.737\n",
      "Iteration: 290, Discriminator Loss: 1.105, Generator Loss: 0.762\n",
      "Iteration: 300, Discriminator Loss: 1.247, Generator Loss: 0.628\n",
      "Iteration: 310, Discriminator Loss: 1.175, Generator Loss: 0.738\n",
      "Iteration: 320, Discriminator Loss: 1.182, Generator Loss: 0.667\n",
      "Iteration: 330, Discriminator Loss: 1.346, Generator Loss: 0.622\n",
      "Iteration: 340, Discriminator Loss: 1.111, Generator Loss: 0.852\n",
      "Iteration: 350, Discriminator Loss: 1.239, Generator Loss: 0.653\n",
      "Iteration: 360, Discriminator Loss: 1.197, Generator Loss: 0.718\n",
      "Iteration: 370, Discriminator Loss: 0.912, Generator Loss: 0.972\n",
      "Iteration: 380, Discriminator Loss: 0.922, Generator Loss: 0.842\n",
      "Iteration: 390, Discriminator Loss: 1.052, Generator Loss: 0.800\n",
      "Iteration: 400, Discriminator Loss: 1.039, Generator Loss: 0.819\n",
      "Iteration: 410, Discriminator Loss: 1.012, Generator Loss: 0.795\n",
      "Iteration: 420, Discriminator Loss: 0.932, Generator Loss: 0.982\n",
      "Iteration: 430, Discriminator Loss: 1.012, Generator Loss: 0.897\n",
      "Iteration: 440, Discriminator Loss: 0.892, Generator Loss: 0.839\n",
      "Iteration: 450, Discriminator Loss: 0.902, Generator Loss: 0.858\n",
      "Iteration: 460, Discriminator Loss: 0.973, Generator Loss: 0.878\n",
      "Iteration: 470, Discriminator Loss: 0.670, Generator Loss: 1.327\n",
      "Iteration: 480, Discriminator Loss: 0.740, Generator Loss: 1.001\n",
      "Iteration: 490, Discriminator Loss: 1.090, Generator Loss: 0.798\n",
      "Iteration: 500, Discriminator Loss: 0.933, Generator Loss: 0.873\n"
     ]
    }
   ],
   "source": [
    "discriminator = Discriminator().to(device)\n",
    "generator = PatchQuantumGenerator(n_generators).to(device)\n",
    "\n",
    "# Binary cross entropy\n",
    "criterion = nn.BCELoss()\n",
    "\n",
    "# Optimisers\n",
    "optD = optim.SGD(discriminator.parameters(), lr=lrD)\n",
    "optG = optim.SGD(generator.parameters(), lr=lrG)\n",
    "\n",
    "real_labels = torch.full((batch_size,), 1.0, dtype=torch.float, device=device)\n",
    "fake_labels = torch.full((batch_size,), 0.0, dtype=torch.float, device=device)\n",
    "\n",
    "# Fixed noise allows us to visually track the generated images throughout training\n",
    "fixed_noise = torch.rand(8, n_qubits, device=device) * math.pi / 2\n",
    "\n",
    "# Iteration counter\n",
    "counter = 0\n",
    "\n",
    "# Collect images for plotting later\n",
    "results = []\n",
    "\n",
    "while True:\n",
    "    for i, (data, _) in enumerate(dataloader):\n",
    "\n",
    "        # Data for training the discriminator\n",
    "        data = data.reshape(-1, image_size * image_size)\n",
    "        real_data = data.to(device)\n",
    "\n",
    "        # Noise following a uniform distribution in range [0,pi/2)\n",
    "        noise = torch.rand(batch_size, n_qubits, device=device) * math.pi / 2\n",
    "        fake_data = generator(noise)\n",
    "\n",
    "        # Training the discriminator\n",
    "        discriminator.zero_grad()\n",
    "        outD_real = discriminator(real_data).view(-1)\n",
    "        outD_fake = discriminator(fake_data.detach()).view(-1)\n",
    "\n",
    "        errD_real = criterion(outD_real, real_labels)\n",
    "        errD_fake = criterion(outD_fake, fake_labels)\n",
    "        # Propagate gradients\n",
    "        errD_real.backward()\n",
    "        errD_fake.backward()\n",
    "\n",
    "        errD = errD_real + errD_fake\n",
    "        optD.step()\n",
    "\n",
    "        # Training the generator\n",
    "        generator.zero_grad()\n",
    "        outD_fake = discriminator(fake_data).view(-1)\n",
    "        errG = criterion(outD_fake, real_labels)\n",
    "        errG.backward()\n",
    "        optG.step()\n",
    "\n",
    "        counter += 1\n",
    "\n",
    "        # Show loss values\n",
    "        if counter % 10 == 0:\n",
    "            print(f'Iteration: {counter}, Discriminator Loss: {errD:0.3f}, Generator Loss: {errG:0.3f}')\n",
    "            test_images = generator(fixed_noise).view(8,1,image_size,image_size).cpu().detach()\n",
    "\n",
    "            # Save images every 50 iterations\n",
    "            if counter % 50 == 0:\n",
    "                results.append(test_images)\n",
    "\n",
    "        if counter == num_iter:\n",
    "            break\n",
    "    if counter == num_iter:\n",
    "        break"
   ]
  },
  {
   "cell_type": "markdown",
   "metadata": {},
   "source": [
    "- We can observe that while the Discriminator Loss values are decreasing, the generator loss values go on increasing. This is because the loss function in the generator is set up such that instead of minimising the (1 - log(D)) term, we have to maximize log(D), where D is the accuracy of the discriminator to tell real apart from the fake ones.\n",
    "- This is the reason the generator loss values are increasing. Inspite of this, both the discriminator and generator are becoming better at classifying real vs fake images and generating better images respectively."
   ]
  },
  {
   "cell_type": "code",
   "execution_count": 36,
   "metadata": {},
   "outputs": [
    {
     "data": {
      "image/png": "[encoded data removed]",
      "text/plain": [
       "<Figure size 1000x500 with 80 Axes>"
      ]
     },
     "metadata": {},
     "output_type": "display_data"
    }
   ],
   "source": [
    "fig = plt.figure(figsize=(10, 5))\n",
    "outer = gridspec.GridSpec(5, 2, wspace=0.1)\n",
    "\n",
    "for i, images in enumerate(results):\n",
    "    inner = gridspec.GridSpecFromSubplotSpec(1, images.size(0),\n",
    "                    subplot_spec=outer[i])\n",
    "\n",
    "    images = torch.squeeze(images, dim=1)\n",
    "    for j, im in enumerate(images):\n",
    "\n",
    "        ax = plt.Subplot(fig, inner[j])\n",
    "        ax.imshow(im.numpy(), cmap=\"gray\")\n",
    "        ax.set_xticks([])\n",
    "        ax.set_yticks([])\n",
    "        if j==0:\n",
    "            ax.set_title(f'Iteration {50+i*50}', loc='left')\n",
    "        fig.add_subplot(ax)\n",
    "\n",
    "plt.show()"
   ]
  },
  {
   "cell_type": "markdown",
   "metadata": {},
   "source": [
    "We can observe the generated images approaching the likes of original data with more and more number of iterations."
   ]
  }
 ],
 "metadata": {
  "kernelspec": {
   "display_name": "Python 3",
   "language": "python",
   "name": "python3"
  },
  "language_info": {
   "codemirror_mode": {
    "name": "ipython",
    "version": 3
   },
   "file_extension": ".py",
   "mimetype": "text/x-python",
   "name": "python",
   "nbconvert_exporter": "python",
   "pygments_lexer": "ipython3",
   "version": "3.12.2"
  }
 },
 "nbformat": 4,
 "nbformat_minor": 2
}
